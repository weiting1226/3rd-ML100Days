{
  "nbformat": 4,
  "nbformat_minor": 0,
  "metadata": {
    "colab": {
      "provenance": [],
      "collapsed_sections": [],
      "include_colab_link": true
    },
    "kernelspec": {
      "name": "python3",
      "display_name": "Python 3"
    },
    "language_info": {
      "name": "python"
    }
  },
  "cells": [
    {
      "cell_type": "markdown",
      "metadata": {
        "id": "view-in-github",
        "colab_type": "text"
      },
      "source": [
        "<a href=\"https://colab.research.google.com/github/weiting1226/3rd-ML100Days/blob/master/Bitcoin_Mining.ipynb\" target=\"_parent\"><img src=\"https://colab.research.google.com/assets/colab-badge.svg\" alt=\"Open In Colab\"/></a>"
      ]
    },
    {
      "cell_type": "markdown",
      "source": [
        "# **比特幣挖礦實作教學** \n",
        "# 挖礦的過程就是找到x使得SHA256(SHA256(version + prev_hash + merkle_root + ntime + nbits + x )) < TARGET\n",
        "# 上式的x的範圍是0~2^32, TARGET可以根據當前難度求出的。除了x之外，\n",
        "# 你還可以嘗試改動merkle_root和ntime。由於hash的特性，找這樣一個x只能暴力搜索(窮舉法)**。**"
      ],
      "metadata": {
        "id": "oe7SOLpFHvYx"
      }
    },
    {
      "cell_type": "code",
      "execution_count": null,
      "metadata": {
        "id": "IvdF9oZkAOvz"
      },
      "outputs": [],
      "source": [
        "# coding:utf-8\n",
        "# python3\n",
        "# https://replit.com/@rslu2000/mining#main02.py\n",
        "# https://https://live.blockcypher.com/\n",
        "# https://www.unixtimestamp.com/index.php\n",
        "# 時間戳轉換 https://www.epochconverter.com/\n",
        "# 範例 開挖第600000號區塊\n",
        "# https://api.blockcypher.com/v1/btc/main/blocks/00000000000000000007316856900e76b4f7a9139cfbfba89842c8d196cd5f91\n",
        "# timestamp 1571443461\n",
        "# 版本編號ver:536870912  \"難度值 bits\": 387294044  \"nonce\": 1066642855,\n",
        "# \"prev_block\": \"00000000000000000003ecd827f336c6971f6f77a0b9fba362398dd867975645\",\n",
        "# \"mrkl_root\": \"66b7c4a1926b41ceb2e617ddae0067e7bfea42db502017fde5b695a50384ed26\","
      ]
    },
    {
      "cell_type": "code",
      "source": [
        "import struct\n",
        "import binascii\n",
        "import hashlib"
      ],
      "metadata": {
        "id": "7kyfaCF4AS4N"
      },
      "execution_count": 1,
      "outputs": []
    },
    {
      "cell_type": "code",
      "source": [
        "# ver = int(raw_input(\"請輸入區塊的版本編號：\"),16)\n",
        "ver = int(input(\"請輸入區塊的版本編號(10進制))：\"))\n",
        "print(ver)"
      ],
      "metadata": {
        "colab": {
          "base_uri": "https://localhost:8080/"
        },
        "id": "AYkMhPI0AY27",
        "outputId": "08fb24ba-ec7e-4c18-9b02-46c0e57fb854"
      },
      "execution_count": null,
      "outputs": [
        {
          "output_type": "stream",
          "name": "stdout",
          "text": [
            "請輸入區塊的版本編號(10進制))：536870912\n",
            "536870912\n"
          ]
        }
      ]
    },
    {
      "cell_type": "code",
      "source": [
        "prev_block = input(\"請輸入前一區塊的哈希值:\")\n",
        "b_prev_block = bytes.fromhex(prev_block)"
      ],
      "metadata": {
        "colab": {
          "base_uri": "https://localhost:8080/"
        },
        "id": "FeJcnc9NAmcw",
        "outputId": "1319ea6a-6195-4fd2-e251-68b33145a7e4"
      },
      "execution_count": null,
      "outputs": [
        {
          "name": "stdout",
          "output_type": "stream",
          "text": [
            "請輸入前一區塊的哈希值:00000000000000000003ecd827f336c6971f6f77a0b9fba362398dd867975645\n"
          ]
        }
      ]
    },
    {
      "cell_type": "code",
      "source": [
        "mrkl_root = input(\"請輸入梅根樹節點的哈希值:\")\n",
        "b_mrkl_root = bytes.fromhex(mrkl_root)"
      ],
      "metadata": {
        "colab": {
          "base_uri": "https://localhost:8080/"
        },
        "id": "WyquNY13AwGQ",
        "outputId": "f8d2838f-9ad8-41f0-bc24-e411165fa135"
      },
      "execution_count": null,
      "outputs": [
        {
          "name": "stdout",
          "output_type": "stream",
          "text": [
            "請輸入梅根樹節點的哈希值:66b7c4a1926b41ceb2e617ddae0067e7bfea42db502017fde5b695a50384ed26\n"
          ]
        }
      ]
    },
    {
      "cell_type": "code",
      "source": [
        "#這個網站可以查詢日曆時間轉換為時間戳(timestamp)格式  https://www.epochconverter.com/\n",
        "time_ = int(input(\"請輸入時間戳記(10進制)：\"))\n",
        "bits = int(input(\"請輸入難度值(10進制):\"))"
      ],
      "metadata": {
        "colab": {
          "base_uri": "https://localhost:8080/"
        },
        "id": "ojdKD9r5A2TB",
        "outputId": "73fbbacb-de4c-472e-ac31-4449af4b0b00"
      },
      "execution_count": null,
      "outputs": [
        {
          "name": "stdout",
          "output_type": "stream",
          "text": [
            "請輸入時間戳記(10進制)：1571443461\n",
            "請輸入難度值(10進制):387294044\n"
          ]
        }
      ]
    },
    {
      "cell_type": "code",
      "source": [
        "nonce = int(input(\"請輸入求解的起始範圍(10進制)：\"))\n",
        "print(nonce)"
      ],
      "metadata": {
        "colab": {
          "base_uri": "https://localhost:8080/"
        },
        "id": "oRg-VyLwA_Bq",
        "outputId": "6eaae52d-c5b6-4bfe-fb41-d66cbca0cbcd"
      },
      "execution_count": null,
      "outputs": [
        {
          "output_type": "stream",
          "name": "stdout",
          "text": [
            "請輸入求解的起始範圍(10進制)：1066640000\n",
            "1066640000\n"
          ]
        }
      ]
    },
    {
      "cell_type": "code",
      "source": [
        "exp = bits >> 24\n",
        "mant = bits & 0xffffff\n",
        "target_hexstr = '%064x' % (mant * (1 << (8 * (exp - 3))))\n",
        "# hex string converted to bytes\n",
        "target_str = bytes.fromhex(target_hexstr)\n",
        "print(\"target_hexstr:\" + target_hexstr)\n",
        "# bytes to be printed out, bytes should be done bytes=>hex string\n",
        "print(\"target_str:\" + target_str.hex())\n",
        "sha256 = hashlib.sha256"
      ],
      "metadata": {
        "colab": {
          "base_uri": "https://localhost:8080/"
        },
        "id": "9lXUZTgOBdnz",
        "outputId": "abe3bb3e-7d94-4942-da54-0669632d3f1f"
      },
      "execution_count": null,
      "outputs": [
        {
          "output_type": "stream",
          "name": "stdout",
          "text": [
            "target_hexstr:00000000000000000015a35c0000000000000000000000000000000000000000\n",
            "target_str:00000000000000000015a35c0000000000000000000000000000000000000000\n"
          ]
        }
      ]
    },
    {
      "cell_type": "code",
      "source": [
        "while nonce < 0x10000000000:\n",
        "    header = (struct.pack(\"<L\", ver) + b_prev_block[::-1] +\n",
        "              b_mrkl_root[::-1] + struct.pack(\n",
        "                  \"<LLL\", time_, bits, nonce))\n",
        "    print(\"header:\" + header.hex())\n",
        "    hash = sha256(sha256(header).digest()).digest()\n",
        "    print(\"Hash:\" + hash.hex())\n",
        "    print(nonce, hash[::-1].hex())\n",
        "    if hash[::-1] < target_str:\n",
        "        print('Mining success')\n",
        "        break\n",
        "    nonce += 1"
      ],
      "metadata": {
        "colab": {
          "base_uri": "https://localhost:8080/"
        },
        "id": "gCxiaKsRBi5w",
        "outputId": "46122c3e-95c2-411f-b9bb-a4d4a6d95e27"
      },
      "execution_count": null,
      "outputs": [
        {
          "output_type": "stream",
          "name": "stdout",
          "text": [
            "header:0000002045569767d88d3962a3fbb9a0776f1f97c636f327d8ec0300000000000000000026ed8403a595b6e5fd172050db42eabfe76700aedd17e6b2ce416b92a1c4b7660553aa5d5ca31517a7ad933f\n",
            "Hash:915fcd96d1c84298a8fbfb9c13a9f7b4760e9056683107000000000000000000\n",
            "1066642855 00000000000000000007316856900e76b4f7a9139cfbfba89842c8d196cd5f91\n",
            "Mining success\n"
          ]
        }
      ]
    }
  ]
}